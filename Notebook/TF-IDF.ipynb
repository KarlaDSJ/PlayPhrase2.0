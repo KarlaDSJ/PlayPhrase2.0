{
 "cells": [
  {
   "cell_type": "markdown",
   "id": "310eb367",
   "metadata": {},
   "source": [
    "# TF-IDF\n",
    "Recapitulando un poco nuestro proyecto, queremos que dada una subcadena encontrar algun subtitulo que contenga dicha subcadena. \n",
    "TF-IDF nos permite buscar entre una gran cantidad de documentos a diferencia de RAKE. Además nos permite obtener un ejemplo mas representativo de dicha subcadena, pues TF-IDF le da un valor a la representatividad.\n",
    "TF se encarga de encontrar la frecuencia de palabras dentro de un documento e IDF se encarga de revisar las estas frecuencias y avergiuar que tan representativas son para cada documento (video).\n",
    "\n",
    "Si acotamos el problema a meramente coincidencias de las palabras no necesitamos ningun espacio vectorial porque no nos interesa la semantica de las palabras. Pues queremos coincidencias exactas y no frases con una semantica similar.\n",
    "\n",
    "Tambien, si decidieramos implementar un espacio vectorial, podriamos hacer uso de vectores TF-IDF. Tomando en cuenta que nuestros documentos seran nuestros subtitulos en lugar de tomar cada video como un documento."
   ]
  },
  {
   "cell_type": "code",
   "execution_count": 43,
   "id": "c5b44001",
   "metadata": {},
   "outputs": [],
   "source": [
    "import pickle\n",
    "from tqdm import tqdm \n",
    "from collections import defaultdict, Counter\n",
    "import pandas as pd\n",
    "from operator import itemgetter\n",
    "import numpy as np"
   ]
  },
  {
   "cell_type": "code",
   "execution_count": 5,
   "id": "b1462c05",
   "metadata": {},
   "outputs": [
    {
     "data": {
      "text/plain": [
       "{'id': 'L9YhoRatRzE',\n",
       " 'original_title': 'Siempre Fui Yo | Adelanto | Disney+',\n",
       " 'subtitles': [{'start': '0.13',\n",
       "   'dur': '3.77',\n",
       "   'text': ['tu', 'papá', 'tuvo', 'un', 'accidente']},\n",
       "  {'start': '12.5', 'dur': '5.939', 'text': ['te', 'recuerdo', 'que', 'está']},\n",
       "  {'start': '15.59', 'dur': '5.339', 'text': ['aquí']},\n",
       "  {'start': '18.439',\n",
       "   'dur': '6.361',\n",
       "   'text': ['estaba', 'como', 'rabioso', 'con']},\n",
       "  {'start': '20.929',\n",
       "   'dur': '7.65',\n",
       "   'text': ['especial', 'con', 'lucas', 'martín']},\n",
       "  {'start': '24.8',\n",
       "   'dur': '3.779',\n",
       "   'text': ['necesito', 'saber', 'qué', 'fue', 'lo', 'que', 'pasó']},\n",
       "  {'start': '29.42', 'dur': '2.479', 'text': ['aplausos']}]}"
      ]
     },
     "execution_count": 5,
     "metadata": {},
     "output_type": "execute_result"
    }
   ],
   "source": [
    "with open(\"../clean_videos.pkl\", \"rb\") as f:\n",
    "    videos = pickle.load(f)\n",
    "videos[0][0]"
   ]
  },
  {
   "cell_type": "code",
   "execution_count": 58,
   "id": "8eec8bf3",
   "metadata": {},
   "outputs": [
    {
     "name": "stderr",
     "output_type": "stream",
     "text": [
      "100%|████████████████████████████████████████████| 9/9 [00:00<00:00, 23.90it/s]\n"
     ]
    },
    {
     "data": {
      "text/plain": [
       "['tu', 'papá', 'tuvo', 'un', 'accidente']"
      ]
     },
     "execution_count": 58,
     "metadata": {},
     "output_type": "execute_result"
    }
   ],
   "source": [
    "documents = defaultdict(list)\n",
    "def merge_videos(corpus):\n",
    "    '''\n",
    "    Mezcla el corpus de cada video en una entrada del\n",
    "    diccionario movies en un solo corpus, \n",
    "    guarda los diálogos por línea tokenizados y limpios\n",
    "\n",
    "    Args:\n",
    "        col (dic): Diccionario con los diálogos\n",
    "    '''\n",
    "    corpus_clean = []\n",
    "    #Iteramos sobre los canales\n",
    "    for chanel in tqdm(corpus):\n",
    "        for video in chanel:\n",
    "            #Cada texto se guarda por oraciones\n",
    "            if 'subtitles' in video:\n",
    "                corpus_clean += [s['text'] for s in video['subtitles']]\n",
    "                for s in video['subtitles']:\n",
    "                    documents[video['id']] += s[\"text\"]\n",
    "    return corpus_clean\n",
    "\n",
    "all_videos = merge_videos(videos)\n",
    "all_videos[0]"
   ]
  },
  {
   "cell_type": "code",
   "execution_count": 15,
   "id": "5bd93c6a",
   "metadata": {},
   "outputs": [],
   "source": [
    "def flatten(lst):\n",
    "    return [item for sub in lst for item in sub]"
   ]
  },
  {
   "cell_type": "code",
   "execution_count": 22,
   "id": "c7516e9f",
   "metadata": {},
   "outputs": [],
   "source": [
    "term_frequencies = Counter(flatten(all_videos))"
   ]
  },
  {
   "cell_type": "code",
   "execution_count": 25,
   "id": "b7127a0f",
   "metadata": {},
   "outputs": [
    {
     "data": {
      "text/html": [
       "<div>\n",
       "<style scoped>\n",
       "    .dataframe tbody tr th:only-of-type {\n",
       "        vertical-align: middle;\n",
       "    }\n",
       "\n",
       "    .dataframe tbody tr th {\n",
       "        vertical-align: top;\n",
       "    }\n",
       "\n",
       "    .dataframe thead th {\n",
       "        text-align: right;\n",
       "    }\n",
       "</style>\n",
       "<table border=\"1\" class=\"dataframe\">\n",
       "  <thead>\n",
       "    <tr style=\"text-align: right;\">\n",
       "      <th></th>\n",
       "      <th>Frequency</th>\n",
       "    </tr>\n",
       "    <tr>\n",
       "      <th>Token</th>\n",
       "      <th></th>\n",
       "    </tr>\n",
       "  </thead>\n",
       "  <tbody>\n",
       "    <tr>\n",
       "      <th>de</th>\n",
       "      <td>217897</td>\n",
       "    </tr>\n",
       "    <tr>\n",
       "      <th>que</th>\n",
       "      <td>167644</td>\n",
       "    </tr>\n",
       "    <tr>\n",
       "      <th>la</th>\n",
       "      <td>128609</td>\n",
       "    </tr>\n",
       "    <tr>\n",
       "      <th>y</th>\n",
       "      <td>116389</td>\n",
       "    </tr>\n",
       "    <tr>\n",
       "      <th>el</th>\n",
       "      <td>105011</td>\n",
       "    </tr>\n",
       "    <tr>\n",
       "      <th>...</th>\n",
       "      <td>...</td>\n",
       "    </tr>\n",
       "    <tr>\n",
       "      <th>nananana</th>\n",
       "      <td>1</td>\n",
       "    </tr>\n",
       "    <tr>\n",
       "      <th>nía</th>\n",
       "      <td>1</td>\n",
       "    </tr>\n",
       "    <tr>\n",
       "      <th>llull</th>\n",
       "      <td>1</td>\n",
       "    </tr>\n",
       "    <tr>\n",
       "      <th>priorizando</th>\n",
       "      <td>1</td>\n",
       "    </tr>\n",
       "    <tr>\n",
       "      <th>distinguían</th>\n",
       "      <td>1</td>\n",
       "    </tr>\n",
       "  </tbody>\n",
       "</table>\n",
       "<p>97791 rows × 1 columns</p>\n",
       "</div>"
      ],
      "text/plain": [
       "             Frequency\n",
       "Token                 \n",
       "de              217897\n",
       "que             167644\n",
       "la              128609\n",
       "y               116389\n",
       "el              105011\n",
       "...                ...\n",
       "nananana             1\n",
       "nía                  1\n",
       "llull                1\n",
       "priorizando          1\n",
       "distinguían          1\n",
       "\n",
       "[97791 rows x 1 columns]"
      ]
     },
     "execution_count": 25,
     "metadata": {},
     "output_type": "execute_result"
    }
   ],
   "source": [
    "term_list = pd.DataFrame(sorted(term_frequencies.items(), key=itemgetter(1), reverse=True), \n",
    "                         columns=['Token','Frequency'])\n",
    "\n",
    "term_list = term_list.set_index(term_list['Token'])\n",
    "term_list.pop('Token')\n",
    "term_list"
   ]
  },
  {
   "cell_type": "code",
   "execution_count": 68,
   "id": "6fb1f169",
   "metadata": {},
   "outputs": [
    {
     "name": "stderr",
     "output_type": "stream",
     "text": [
      "100%|██████████████████████████████████| 97791/97791 [3:54:51<00:00,  6.94it/s]\n"
     ]
    }
   ],
   "source": [
    "idf = {}\n",
    "num_documents = len(documents)\n",
    "for term in tqdm(term_list.index):\n",
    "    #Total de documentos en que\n",
    "    #aparece el término\n",
    "    total_documents = 0\n",
    "    for doc, token_list in documents.items():\n",
    "        if term in token_list:\n",
    "            total_documents += 1\n",
    "            \n",
    "    #Asignación de idf\n",
    "    #print(total_documents, num_documents)\n",
    "    idf[term] = -np.log2(total_documents/num_documents)\n",
    "    \n",
    "pickle.dump(idf, open(\"../idf.pkl\", \"wb\"))\n",
    "\n",
    "#Agregamos el idf al dataframe\n",
    "term_list['idf'] = idf.values()\n",
    "term_list.sort_values(by='idf', ascending=False)\n",
    "    \n",
    "pickle.dump(term_list, open(\"../term_list.pkl\", \"wb\"))"
   ]
  },
  {
   "cell_type": "code",
   "execution_count": 65,
   "id": "d0dd660e",
   "metadata": {},
   "outputs": [
    {
     "data": {
      "text/plain": [
       "{'a': 1}"
      ]
     },
     "execution_count": 65,
     "metadata": {},
     "output_type": "execute_result"
    }
   ],
   "source": [
    "{\"a\":1}"
   ]
  },
  {
   "cell_type": "code",
   "execution_count": 61,
   "id": "36c28379",
   "metadata": {},
   "outputs": [
    {
     "data": {
      "text/plain": [
       "['tu',\n",
       " 'papá',\n",
       " 'tuvo',\n",
       " 'un',\n",
       " 'accidente',\n",
       " 'te',\n",
       " 'recuerdo',\n",
       " 'que',\n",
       " 'está',\n",
       " 'aquí',\n",
       " 'estaba',\n",
       " 'como',\n",
       " 'rabioso',\n",
       " 'con',\n",
       " 'especial',\n",
       " 'con',\n",
       " 'lucas',\n",
       " 'martín',\n",
       " 'necesito',\n",
       " 'saber',\n",
       " 'qué',\n",
       " 'fue',\n",
       " 'lo',\n",
       " 'que',\n",
       " 'pasó',\n",
       " 'aplausos']"
      ]
     },
     "execution_count": 61,
     "metadata": {},
     "output_type": "execute_result"
    }
   ],
   "source": [
    "documents[\"L9YhoRatRzE\"]"
   ]
  },
  {
   "cell_type": "code",
   "execution_count": null,
   "id": "040f62bf",
   "metadata": {},
   "outputs": [],
   "source": []
  }
 ],
 "metadata": {
  "kernelspec": {
   "display_name": "Python 3 (ipykernel)",
   "language": "python",
   "name": "python3"
  },
  "language_info": {
   "codemirror_mode": {
    "name": "ipython",
    "version": 3
   },
   "file_extension": ".py",
   "mimetype": "text/x-python",
   "name": "python",
   "nbconvert_exporter": "python",
   "pygments_lexer": "ipython3",
   "version": "3.9.8"
  }
 },
 "nbformat": 4,
 "nbformat_minor": 5
}
