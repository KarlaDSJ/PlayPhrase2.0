{
 "cells": [
  {
   "cell_type": "markdown",
   "metadata": {},
   "source": [
    "# Agrupar \n",
    "\n",
    "Agruparemos utilizando 2 enfoques:\n",
    "\n",
    "- Por subtítulos\n",
    "- Por videos \n",
    "\n",
    "Para analizar de una manera más detallada el corpus"
   ]
  },
  {
   "cell_type": "code",
   "execution_count": 106,
   "metadata": {},
   "outputs": [
    {
     "name": "stderr",
     "output_type": "stream",
     "text": [
      "[nltk_data] Downloading package punkt to /home/karla/nltk_data...\n",
      "[nltk_data]   Package punkt is already up-to-date!\n",
      "[nltk_data] Downloading package stopwords to /home/karla/nltk_data...\n",
      "[nltk_data]   Package stopwords is already up-to-date!\n"
     ]
    }
   ],
   "source": [
    "#Para el corpus\n",
    "import sys\n",
    "sys.path.append('..')\n",
    "from src.data import Data \n",
    "#Para calcular TF-IDF\n",
    "from src.tfidf import TFIDF\n",
    "#Para graficar palabras\n",
    "from sklearn.decomposition import PCA\n",
    "import matplotlib.pyplot as plt\n",
    "from tqdm import tqdm \n",
    "from collections import defaultdict\n",
    "import numpy as np\n",
    "# nltk\n",
    "import nltk\n",
    "nltk.download('punkt')\n",
    "nltk.download('stopwords')\n",
    "from nltk.corpus import stopwords #Listas de stopwords\n",
    "import pickle"
   ]
  },
  {
   "cell_type": "markdown",
   "id": "7adb72d6",
   "metadata": {},
   "source": [
    "## Vectores TF-IDF"
   ]
  },
  {
   "cell_type": "markdown",
   "id": "74b13558",
   "metadata": {},
   "source": [
    "### Gráficamos los vectores de TF-IDF de cada subtítulo "
   ]
  },
  {
   "cell_type": "code",
   "execution_count": 3,
   "metadata": {},
   "outputs": [
    {
     "name": "stderr",
     "output_type": "stream",
     "text": [
      "100%|██████████| 9/9 [00:00<00:00, 17.48it/s]\n",
      "100%|██████████| 9/9 [00:03<00:00,  2.90it/s]\n"
     ]
    }
   ],
   "source": [
    "#Cargamos el corpus limpio\n",
    "videos = Data(\"../pkl/clean_videos.pkl\")\n",
    "videos.get_all_subtitles()\n",
    "#Creamos el objeto tfidf\n",
    "tfidf_objxO = TFIDF(videos)\n",
    "# Cargamos los valores tfidf previamente calculados\n",
    "tfidf_objxO.tfidf = \"../pkl/tfidfxOracion.pkl\" #Vectores por texto\n",
    "# Obtenemos los vectores por subtítulo\n",
    "tfidf_objxO.get_tfid_vectors(document=False)"
   ]
  },
  {
   "cell_type": "markdown",
   "metadata": {},
   "source": [
    "Tomamos 2 palabras clave por subtítulo ya que la mayoría de los subtítulos no son muy largos (el más largo es de 56, pero hay muchos subtítulos de 1 palabra)"
   ]
  },
  {
   "cell_type": "code",
   "execution_count": 4,
   "metadata": {},
   "outputs": [],
   "source": [
    "more = [\"si\", \"bien\", \"ahora\", \"así\", \"aquí\", \"pues\"]\n",
    "stopwords_list = stopwords.words('spanish') + more\n",
    "\n",
    "def get_2key_word(sentence):\n",
    "    \"\"\"\n",
    "    Dada una cadena y su valor tf_idf\n",
    "    Nos quedamos con las 2 primeras palabras que no sean stopwords\n",
    "    para que representen al subtítulo\n",
    "    \"\"\"\n",
    "    word = \"\"\n",
    "    val = []\n",
    "    sentence.sort(key = lambda x: x[1])\n",
    "    j = 0\n",
    "    if len(sentence) == 1: #Si únicamente hay una palabra\n",
    "        #Hacemos padding para que el vector siempre tenga 2 entradas\n",
    "        word = sentence[0][0]\n",
    "        val = [sentence[0][1], 0]\n",
    "    else:\n",
    "        for  w, i in sentence:\n",
    "            if j < 2 and w not in stopwords_list: \n",
    "                word += w + \" \"\n",
    "                val.append(i)\n",
    "                j += 1\n",
    "    return word, val"
   ]
  },
  {
   "cell_type": "code",
   "execution_count": 5,
   "metadata": {},
   "outputs": [],
   "source": [
    "def do_padding(vector, t):\n",
    "    '''\n",
    "    Agrega 0 al vector si no es del tamaño t \n",
    "    Args:\n",
    "        vector (lst): lista de tamaño diferente\n",
    "        t (int): Tamaño esperado del vector\n",
    "    '''\n",
    "    for _ in range(0, t - len(vector)):\n",
    "        vector.append(0)"
   ]
  },
  {
   "cell_type": "code",
   "execution_count": 6,
   "id": "328679ca",
   "metadata": {},
   "outputs": [],
   "source": [
    "def get_vectors():\n",
    "    '''\n",
    "    Regresa un diccionario con los subtítulos y su vector tfidf\n",
    "    '''\n",
    "    vectors = {}\n",
    "    #Iteramos sobre los canales\n",
    "    for chanel in tqdm(tfidf_objxO.data.corpus):\n",
    "        for video in chanel:\n",
    "            #Cada texto se guarda por oraciones\n",
    "            if 'subtitles' in video:\n",
    "                for s in video['subtitles']:\n",
    "                    sentence = list(zip(s[\"text\"], s[\"tfid\"]))\n",
    "                    #Ordenamos los valores tf-idf\n",
    "                    sentence.sort(key = lambda x: x[1])\n",
    "                    #Obtenemos 1 o 2 palabras clave\n",
    "                    word, val = get_2key_word(sentence)\n",
    "                    #Hacemos padding para que el vector siempre tenga 2 entradas\n",
    "                    do_padding(val, 2)\n",
    "                    vectors[word] = val\n",
    "    return vectors"
   ]
  },
  {
   "cell_type": "code",
   "execution_count": 7,
   "id": "f40ff2df",
   "metadata": {},
   "outputs": [],
   "source": [
    "#Función para plotear en dos dimensiones con etiquetas\n",
    "def plot_words(X,ids, color='blue'):\n",
    "    '''\n",
    "    Gráfica las oraciones dado su vector tfid\n",
    "\n",
    "    Args:\n",
    "        X (list): coordenadas del vector aplicando PCA\n",
    "        ids (list): oraciones\n",
    "    '''\n",
    "    r=0\n",
    "    plt.scatter(X[:,0],X[:,1], marker='o', c=color)\n",
    "    for label,x,y in tqdm(zip(ids, X[:,0], X[:,1])):\n",
    "        plt.annotate(label, xy=(x,y), xytext=(-1,1), textcoords='offset points', ha='center', va='bottom')\n",
    "        r+=1"
   ]
  },
  {
   "cell_type": "code",
   "execution_count": 8,
   "metadata": {},
   "outputs": [
    {
     "name": "stderr",
     "output_type": "stream",
     "text": [
      "100%|██████████| 9/9 [00:08<00:00,  1.04it/s]\n"
     ]
    }
   ],
   "source": [
    "mds_model = PCA(n_components=2)\n",
    "vectors = get_vectors()\n",
    "X_pca = mds_model.fit_transform(list(vectors.values()))"
   ]
  },
  {
   "cell_type": "code",
   "execution_count": 9,
   "metadata": {},
   "outputs": [
    {
     "name": "stdout",
     "output_type": "stream",
     "text": [
      "[('rescatadores vuelta ', [27.065197858734255, 2484.8587661610527]), ('metiendo éstos ', [282.80852337710803, 521.5830229150212]), ('invocas permitir ', [27.065197858734255, 1041.0958627370796]), ('revés ojos ', [299.7330332994848, 39142.70012012738]), ('raros', [318.46288535642265, 0]), ('super ello ', [1837.2216920524, 5010.494656017035]), ('increíble ', [3120.107949989873, 0]), ('alvin gustaron ', [27.065197858734255, 86.46845429347844]), ('ardillas', [79.3677011885693, 0]), ('monstruos', [465.6578681656081, 0]), ('profesionales ver ', [928.158714730899, 22988.94172971779]), ('metemos choca ', [154.5761400148225, 200.8023572942111]), ('lata ', [470.62071136727934, 0]), ('guinness libro ', [79.3677011885693, 2634.933181115102]), ('perdimos ', [206.42359959792924, 0])]\n"
     ]
    }
   ],
   "source": [
    "print(list(vectors.items())[100:115])"
   ]
  },
  {
   "cell_type": "markdown",
   "metadata": {},
   "source": [
    "Con 10 subtítulos"
   ]
  },
  {
   "cell_type": "code",
   "execution_count": 10,
   "metadata": {},
   "outputs": [
    {
     "name": "stderr",
     "output_type": "stream",
     "text": [
      "10it [00:00, 3967.75it/s]\n"
     ]
    },
    {
     "data": {
      "image/png": "[encoded data removed]",
      "text/plain": [
       "<Figure size 432x288 with 1 Axes>"
      ]
     },
     "metadata": {
      "needs_background": "light"
     },
     "output_type": "display_data"
    }
   ],
   "source": [
    "#Solo se gráfican algunas oraciones\n",
    "plot_words(X_pca[20:30], list(vectors.keys())[20:30])\n",
    "plt.title('Vectores TF-IDF (Subtítulos 10)')\n",
    "plt.xlabel('x')\n",
    "plt.ylabel('y')\n",
    "plt.show()"
   ]
  },
  {
   "cell_type": "markdown",
   "metadata": {},
   "source": [
    "Con todos los subtítulos"
   ]
  },
  {
   "cell_type": "code",
   "execution_count": 11,
   "metadata": {},
   "outputs": [
    {
     "name": "stderr",
     "output_type": "stream",
     "text": [
      "10it [00:00, 3938.31it/s]\n"
     ]
    },
    {
     "data": {
      "image/png": "[encoded data removed]",
      "text/plain": [
       "<Figure size 432x288 with 1 Axes>"
      ]
     },
     "metadata": {
      "needs_background": "light"
     },
     "output_type": "display_data"
    }
   ],
   "source": [
    "plot_words(X_pca, list(vectors.keys())[20:30])\n",
    "plt.title('Vectores TF-IDF (Subtítulos)')\n",
    "plt.xlabel('x')\n",
    "plt.ylabel('y')\n",
    "plt.show()"
   ]
  },
  {
   "cell_type": "markdown",
   "metadata": {},
   "source": [
    "### Gráficamos los vectores de TF-IDF de cada vídeo "
   ]
  },
  {
   "cell_type": "code",
   "execution_count": 12,
   "metadata": {},
   "outputs": [
    {
     "name": "stderr",
     "output_type": "stream",
     "text": [
      "100%|██████████| 9/9 [00:00<00:00, 19.11it/s]\n"
     ]
    }
   ],
   "source": [
    "#Cargamos el corpus limpio\n",
    "videos = Data(\"../pkl/clean_videos.pkl\")\n",
    "videos.get_all_subtitles()\n",
    "#Creamos el objeto tfidf\n",
    "tfidf_obj = TFIDF(videos)\n",
    "# Cargamos los valores tfidf previamente calculados\n",
    "tfidf_obj.tfidf = \"../pkl/tfidf.pkl\" #Vectores por texto"
   ]
  },
  {
   "cell_type": "markdown",
   "metadata": {},
   "source": [
    "Para generar los vectores tomaremos únicamente las 10 palabras más representativas de cada vídeo"
   ]
  },
  {
   "cell_type": "code",
   "execution_count": 13,
   "metadata": {},
   "outputs": [],
   "source": [
    "def get_vectors_video():\n",
    "    '''\n",
    "    Regresa un diccionario con los subtítulos y su vector tfidf\n",
    "    '''\n",
    "    vectors = {}\n",
    "    #Iteramos sobre los canales\n",
    "    for id in tqdm(tfidf_obj.tfidf):\n",
    "        v = sorted(tfidf_obj.tfidf[id].values(), reverse=True)[:10]\n",
    "        do_padding(v,10)\n",
    "        vectors[id] = v\n",
    "    return vectors"
   ]
  },
  {
   "cell_type": "code",
   "execution_count": 14,
   "metadata": {},
   "outputs": [
    {
     "name": "stderr",
     "output_type": "stream",
     "text": [
      "100%|██████████| 3276/3276 [00:00<00:00, 7667.26it/s]\n"
     ]
    }
   ],
   "source": [
    "vectors_video = get_vectors_video()\n",
    "val_pca = mds_model.fit_transform(list(vectors_video.values()))"
   ]
  },
  {
   "cell_type": "markdown",
   "metadata": {},
   "source": [
    "Con 10 videos"
   ]
  },
  {
   "cell_type": "code",
   "execution_count": 15,
   "metadata": {},
   "outputs": [
    {
     "name": "stderr",
     "output_type": "stream",
     "text": [
      "10it [00:00, 3312.25it/s]\n"
     ]
    },
    {
     "data": {
      "image/png": "[encoded data removed]",
      "text/plain": [
       "<Figure size 432x288 with 1 Axes>"
      ]
     },
     "metadata": {
      "needs_background": "light"
     },
     "output_type": "display_data"
    }
   ],
   "source": [
    "#Solo se gráfican algunos vídeos\n",
    "plot_words(val_pca[50:60], list(tfidf_obj.tfidf.keys())[50:60])\n",
    "plt.title('Vectores TF-IDF (Vídeos 10)')\n",
    "plt.xlabel('x')\n",
    "plt.ylabel('y')\n",
    "plt.show()"
   ]
  },
  {
   "cell_type": "markdown",
   "metadata": {},
   "source": [
    "Con todos los videos"
   ]
  },
  {
   "cell_type": "code",
   "execution_count": 16,
   "metadata": {},
   "outputs": [
    {
     "name": "stderr",
     "output_type": "stream",
     "text": [
      "1it [00:00, 2288.22it/s]\n"
     ]
    },
    {
     "data": {
      "image/png": "[encoded data removed]",
      "text/plain": [
       "<Figure size 432x288 with 1 Axes>"
      ]
     },
     "metadata": {
      "needs_background": "light"
     },
     "output_type": "display_data"
    }
   ],
   "source": [
    "#Solo se gráfican vídeos\n",
    "plot_words(val_pca, list(tfidf_obj.tfidf.keys())[:1])\n",
    "plt.title('Vectores TF-IDF (Vídeos)')\n",
    "plt.xlabel('x')\n",
    "plt.ylabel('y')\n",
    "plt.show()"
   ]
  },
  {
   "cell_type": "markdown",
   "metadata": {},
   "source": [
    "## K-means"
   ]
  },
  {
   "cell_type": "code",
   "execution_count": 36,
   "metadata": {},
   "outputs": [],
   "source": [
    "class kMeans():\n",
    "    def __init__(self, n_clusters):\n",
    "        #Número de clústers\n",
    "        self.n_clusters = n_clusters\n",
    "        #Clústers vectores\n",
    "        self.clusters = defaultdict(list)\n",
    "        #Clústers con nombres\n",
    "        self.named_clusters = defaultdict(list)\n",
    "        #Centroides \n",
    "        self.centroids = None\n",
    "\n",
    "    def fit(self, X, names=None):\n",
    "        #Inicialización de parámetros\n",
    "        C = X[np.random.choice(X[:,0].shape[0], self.n_clusters)]\n",
    "        print(C)\n",
    "        #Paro\n",
    "        stop = False\n",
    "        while stop == False:\n",
    "            #Cálculo de distancias con respecto a c\n",
    "            dists = np.array([np.linalg.norm(X-c, axis=1) for c in C])\n",
    "            #Cluster más cercano\n",
    "            clusts = np.argmin(dists, axis=0)\n",
    "            #Clusterización de los datos\n",
    "            if names != None:\n",
    "                data = names\n",
    "            else:\n",
    "                data = [i for i in range(X.shape[0])]\n",
    "            for k, v, n in zip(clusts, X, data):\n",
    "                self.clusters[k].append(v)\n",
    "                self.named_clusters[k].append(n)\n",
    "            \n",
    "            #Actualización de C\n",
    "            new_c = np.array([sum(vecs)/len(vecs) for _, vecs in self.clusters.items()])\n",
    "\n",
    "            #Criterio de paro\n",
    "            if C.all() == new_c.all():\n",
    "                stop = True\n",
    "                self.centroids = C\n",
    "            else:\n",
    "                #Actualización de parámetros\n",
    "                C = new_c"
   ]
  },
  {
   "cell_type": "markdown",
   "metadata": {},
   "source": [
    "Probamos con los vectores TFIDF por subtítulo"
   ]
  },
  {
   "cell_type": "code",
   "execution_count": 103,
   "metadata": {},
   "outputs": [
    {
     "name": "stdout",
     "output_type": "stream",
     "text": [
      "[[-2016.39933516  -116.10281461]\n",
      " [ -586.02806943  -524.31317327]\n",
      " [ -808.03454559  -492.7408832 ]\n",
      " [ 3031.17082943 52561.38326276]\n",
      " [ -864.59882792    96.88847046]\n",
      " [-1628.38799418   -81.55503588]\n",
      " [-2549.07220788  -307.06731131]\n",
      " [-2284.97121676  -290.52969903]\n",
      " [-1782.96591118  -369.47242692]\n",
      " [-1963.9705301    -79.01191481]]\n",
      "10\n"
     ]
    }
   ],
   "source": [
    "modelxO = kMeans(10)\n",
    "modelxO.fit(X_pca, list(vectors.keys()))\n",
    "print(len(modelxO.named_clusters))"
   ]
  },
  {
   "cell_type": "code",
   "execution_count": 104,
   "metadata": {},
   "outputs": [
    {
     "name": "stdout",
     "output_type": "stream",
     "text": [
      "4 61515\n",
      "9 18614\n",
      "6 84555\n",
      "7 70516\n",
      "1 97844\n",
      "3 317\n",
      "5 34549\n",
      "0 24709\n",
      "2 16532\n",
      "8 28621\n"
     ]
    }
   ],
   "source": [
    "for c, docs in modelxO.named_clusters.items():\n",
    "    print(c, len(docs)) #Creo que vamos a tener que cambiar de vectores"
   ]
  },
  {
   "cell_type": "code",
   "execution_count": 69,
   "metadata": {},
   "outputs": [],
   "source": [
    "def plot_kmeans(named_clusters, clusters):\n",
    "    colors = ['olive', 'orange', 'r', 'g', 'b', 'c', 'm', 'y', 'k', 'purple']\n",
    "    for c, docs in named_clusters.items():\n",
    "        plot_words(np.array(clusters[c]), [], colors[c])\n",
    "\n",
    "    plt.title('K-means')\n",
    "    plt.xlabel('x')\n",
    "    plt.ylabel('y')\n",
    "    plt.show()"
   ]
  },
  {
   "cell_type": "code",
   "execution_count": 105,
   "metadata": {},
   "outputs": [
    {
     "name": "stderr",
     "output_type": "stream",
     "text": [
      "0it [00:00, ?it/s]\n",
      "0it [00:00, ?it/s]\n",
      "0it [00:00, ?it/s]\n",
      "0it [00:00, ?it/s]\n",
      "0it [00:00, ?it/s]\n",
      "0it [00:00, ?it/s]\n",
      "0it [00:00, ?it/s]\n",
      "0it [00:00, ?it/s]\n",
      "0it [00:00, ?it/s]\n",
      "0it [00:00, ?it/s]\n"
     ]
    },
    {
     "data": {
      "image/png": "[encoded data removed]",
      "text/plain": [
       "<Figure size 432x288 with 1 Axes>"
      ]
     },
     "metadata": {
      "needs_background": "light"
     },
     "output_type": "display_data"
    }
   ],
   "source": [
    "plot_kmeans(modelxO.named_clusters, modelxO.clusters)"
   ]
  },
  {
   "cell_type": "code",
   "execution_count": 107,
   "metadata": {},
   "outputs": [],
   "source": [
    "pickle.dump([modelxO.named_clusters, modelxO.clusters], open(\"../pkl/sub_class.pkl\", \"wb\"))"
   ]
  },
  {
   "cell_type": "markdown",
   "metadata": {},
   "source": [
    "Probamos con los vectores TFIDF por video"
   ]
  },
  {
   "cell_type": "code",
   "execution_count": 97,
   "metadata": {},
   "outputs": [
    {
     "name": "stdout",
     "output_type": "stream",
     "text": [
      "[[-374.08997827  -21.11646966]\n",
      " [ 768.99967241 -109.46702104]\n",
      " [-495.8978883    -3.38074767]\n",
      " [ 722.19665519 -201.80783469]\n",
      " [ 555.71230836 -167.43548271]\n",
      " [-829.45321428   48.58853698]\n",
      " [ 221.87534629 -101.1383587 ]\n",
      " [ 999.87250771 1479.48454996]\n",
      " [1273.6757223  -201.77476123]\n",
      " [2329.93029844 -349.46606079]]\n"
     ]
    },
    {
     "data": {
      "text/plain": [
       "10"
      ]
     },
     "execution_count": 97,
     "metadata": {},
     "output_type": "execute_result"
    }
   ],
   "source": [
    "model = kMeans(10)\n",
    "model.fit(val_pca, list(tfidf_obj.tfidf.keys()))\n",
    "len(model.named_clusters)"
   ]
  },
  {
   "cell_type": "code",
   "execution_count": 98,
   "metadata": {},
   "outputs": [
    {
     "name": "stdout",
     "output_type": "stream",
     "text": [
      "9 299\n",
      "8 230\n",
      "3 61\n",
      "6 188\n",
      "7 23\n",
      "1 84\n",
      "4 98\n",
      "5 1698\n",
      "2 376\n",
      "0 219\n"
     ]
    }
   ],
   "source": [
    "for c, docs in model.named_clusters.items():\n",
    "    print(c, len(docs)) #Creo que vamos a tener que cambiar de vectores"
   ]
  },
  {
   "cell_type": "code",
   "execution_count": 99,
   "metadata": {},
   "outputs": [
    {
     "name": "stderr",
     "output_type": "stream",
     "text": [
      "0it [00:00, ?it/s]\n",
      "0it [00:00, ?it/s]\n",
      "0it [00:00, ?it/s]\n",
      "0it [00:00, ?it/s]\n",
      "0it [00:00, ?it/s]\n",
      "0it [00:00, ?it/s]\n",
      "0it [00:00, ?it/s]\n",
      "0it [00:00, ?it/s]\n",
      "0it [00:00, ?it/s]\n",
      "0it [00:00, ?it/s]\n"
     ]
    },
    {
     "data": {
      "image/png": "[encoded data removed]",
      "text/plain": [
       "<Figure size 432x288 with 1 Axes>"
      ]
     },
     "metadata": {
      "needs_background": "light"
     },
     "output_type": "display_data"
    }
   ],
   "source": [
    "plot_kmeans(model.named_clusters, model.clusters)"
   ]
  },
  {
   "cell_type": "code",
   "execution_count": 108,
   "metadata": {},
   "outputs": [],
   "source": [
    "pickle.dump([model.named_clusters, model.clusters], open(\"../pkl/video_class.pkl\", \"wb\"))"
   ]
  }
 ],
 "metadata": {
  "interpreter": {
   "hash": "916dbcbb3f70747c44a77c7bcd40155683ae19c65e1c03b4aa3499c5328201f1"
  },
  "kernelspec": {
   "display_name": "Python 3.8.10 64-bit",
   "language": "python",
   "name": "python3"
  },
  "language_info": {
   "codemirror_mode": {
    "name": "ipython",
    "version": 3
   },
   "file_extension": ".py",
   "mimetype": "text/x-python",
   "name": "python",
   "nbconvert_exporter": "python",
   "pygments_lexer": "ipython3",
   "version": "3.8.10"
  },
  "orig_nbformat": 4
 },
 "nbformat": 4,
 "nbformat_minor": 2
}
