{
 "cells": [
  {
   "cell_type": "code",
   "execution_count": 5,
   "metadata": {},
   "outputs": [],
   "source": [
    "from os import listdir\n",
    "from os.path import isfile, join\n",
    "#Para el corpus\n",
    "import sys\n",
    "sys.path.append('..')\n",
    "from src.utils import *\n",
    "from tqdm import tqdm \n",
    "from collections import defaultdict\n",
    "import numpy as np\n",
    "from operator import itemgetter\n",
    "import json\n",
    "import pickle\n",
    "from gensim.models.doc2vec import Doc2Vec, TaggedDocument"
   ]
  },
  {
   "cell_type": "code",
   "execution_count": 19,
   "metadata": {},
   "outputs": [],
   "source": [
    "def get_subtittle():\n",
    "    \"\"\"\n",
    "    Regresa una lista con el contenido de todos los archivos de un directorio\n",
    "\n",
    "    Args:\n",
    "        path (str): ruta de la carpeta\n",
    "    \"\"\"\n",
    "    path = \"../corpus/data\"\n",
    "    sub = defaultdict()\n",
    "    info = defaultdict()\n",
    "    onlyfiles = [f for f in listdir(path) if isfile(join(path, f))]\n",
    "\n",
    "    for file in onlyfiles:\n",
    "        with open(path+\"/\"+file, 'rb') as f:\n",
    "            chanel = json.loads(f.read().decode('utf-8', 'replace'))\n",
    "            for video in chanel:\n",
    "                if 'subtitles' in video:\n",
    "                    info[video[\"id\"]] = []\n",
    "                    for i, s in enumerate(video['subtitles']):\n",
    "                        name = video[\"id\"] + \"-\" + str(i)\n",
    "                        sub[name] = get_tokens_clean(s['text'], stop_words=True)\n",
    "                        info[video[\"id\"]].append(s)\n",
    "    return sub, info"
   ]
  },
  {
   "cell_type": "code",
   "execution_count": 20,
   "metadata": {},
   "outputs": [],
   "source": [
    "sub, info = get_subtittle()"
   ]
  },
  {
   "cell_type": "code",
   "execution_count": 23,
   "metadata": {},
   "outputs": [
    {
     "name": "stdout",
     "output_type": "stream",
     "text": [
      "['frida', 'kahlo', 'andaba', 'regreso', 'escuela', 'ciudad', 'méxico'] {'start': '7.791', 'dur': '3.09', 'text': 'Frida Kahlo andaba de regreso de\\nla escuela en la ciudad de México'}\n"
     ]
    }
   ],
   "source": [
    "print(sub[\"68tp7jWrcjA-2\"], info[\"68tp7jWrcjA\"][2])"
   ]
  },
  {
   "cell_type": "code",
   "execution_count": 37,
   "metadata": {},
   "outputs": [
    {
     "data": {
      "text/plain": [
       "[TaggedDocument(words=['adónde', 'vas', 'momo'], tags=['_DZF9EqExZM-0']),\n",
       " TaggedDocument(words=['débil'], tags=['_DZF9EqExZM-1']),\n",
       " TaggedDocument(words=['crees', 'podrás', 'sobrevivir'], tags=['_DZF9EqExZM-2']),\n",
       " TaggedDocument(words=['cumples', 'reglas', 'sociedad'], tags=['_DZF9EqExZM-3']),\n",
       " TaggedDocument(words=['vencido', 'encontramos', 'guarida'], tags=['_DZF9EqExZM-4'])]"
      ]
     },
     "execution_count": 37,
     "metadata": {},
     "output_type": "execute_result"
    }
   ],
   "source": [
    "# Convertimos los tokens de cada título en el formato requerido por gensim \n",
    "tagged_data = [TaggedDocument(d, [i]) for i, d in sub.items()]\n",
    "tagged_data[:5]"
   ]
  },
  {
   "cell_type": "markdown",
   "metadata": {},
   "source": [
    "Entrenamos"
   ]
  },
  {
   "cell_type": "code",
   "execution_count": 38,
   "metadata": {},
   "outputs": [],
   "source": [
    "## Train doc2vec model\n",
    "model = Doc2Vec(tagged_data, vector_size=10, window=2, min_count=1, workers=4, epochs = 100)\n",
    "model.train(tagged_data, total_examples=model.corpus_count, epochs=model.epochs)\n",
    "model.save(\"models/sub_doc2vec.model\")"
   ]
  },
  {
   "cell_type": "code",
   "execution_count": 28,
   "metadata": {},
   "outputs": [
    {
     "name": "stdout",
     "output_type": "stream",
     "text": [
      "540324 540324\n"
     ]
    }
   ],
   "source": [
    "## Load saved doc2vec model\n",
    "model= Doc2Vec.load(\"models/sub_doc2vec.model\")\n",
    "print(len(model.dv), len(tagged_data))"
   ]
  },
  {
   "cell_type": "code",
   "execution_count": 32,
   "metadata": {},
   "outputs": [
    {
     "data": {
      "text/plain": [
       "[(381367, 0.954906165599823),\n",
       " (265583, 0.9480324387550354),\n",
       " (43245, 0.947913408279419),\n",
       " (95832, 0.9451383352279663),\n",
       " (252295, 0.9407374262809753)]"
      ]
     },
     "execution_count": 32,
     "metadata": {},
     "output_type": "execute_result"
    }
   ],
   "source": [
    "test_doc = get_tokens_clean(\"Receta de pastel con almendras\")\n",
    "model.dv.most_similar(positive=[model.infer_vector(test_doc)],topn=5)"
   ]
  },
  {
   "cell_type": "code",
   "execution_count": 33,
   "metadata": {},
   "outputs": [
    {
     "data": {
      "text/plain": [
       "TaggedDocument(words=['nueva', 'zelanda'], tags=[381367])"
      ]
     },
     "execution_count": 33,
     "metadata": {},
     "output_type": "execute_result"
    }
   ],
   "source": [
    "tagged_data[381367]"
   ]
  },
  {
   "cell_type": "code",
   "execution_count": null,
   "metadata": {},
   "outputs": [],
   "source": []
  }
 ],
 "metadata": {
  "interpreter": {
   "hash": "916dbcbb3f70747c44a77c7bcd40155683ae19c65e1c03b4aa3499c5328201f1"
  },
  "kernelspec": {
   "display_name": "Python 3.8.10 64-bit",
   "language": "python",
   "name": "python3"
  },
  "language_info": {
   "codemirror_mode": {
    "name": "ipython",
    "version": 3
   },
   "file_extension": ".py",
   "mimetype": "text/x-python",
   "name": "python",
   "nbconvert_exporter": "python",
   "pygments_lexer": "ipython3",
   "version": "3.8.10"
  },
  "orig_nbformat": 4
 },
 "nbformat": 4,
 "nbformat_minor": 2
}
