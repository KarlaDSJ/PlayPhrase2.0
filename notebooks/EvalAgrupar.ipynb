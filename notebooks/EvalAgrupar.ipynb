{
 "cells": [
  {
   "cell_type": "markdown",
   "metadata": {},
   "source": [
    "# Evaluación de los algoritmos de agrupar\n",
    "\n",
    "Tenemos 3 propuestas, donde cada una tiene un total de 10 clusters: la primera toma como base un vector con las palabras clave por vídeos utilizando el algoritmo de k-means, la segunda lo hace por videos pero utilizando el espectro y k-mean, y el último intento lo hace utilizando embeddings generados por doc2vec tomando como oración el título de cada vídeo y aplicando kmeans"
   ]
  },
  {
   "cell_type": "code",
   "execution_count": null,
   "metadata": {},
   "outputs": [],
   "source": [
    "import pickle\n",
    "import json\n",
    "#Para el corpus\n",
    "import sys\n",
    "sys.path.append('..')\n",
    "from src.data import Data \n",
    "#Para calcular TF-IDF\n",
    "from src.tfidf import TFIDF\n",
    "from tqdm import tqdm\n",
    "from operator import itemgetter\n",
    "# nltk\n",
    "import nltk\n",
    "nltk.download('punkt')\n",
    "nltk.download('stopwords')\n",
    "from nltk.corpus import stopwords #Listas de stopwords\n",
    "from collections import Counter"
   ]
  },
  {
   "cell_type": "markdown",
   "metadata": {},
   "source": [
    "### Cargamos los clusters de cada intento"
   ]
  },
  {
   "cell_type": "code",
   "execution_count": 4,
   "metadata": {},
   "outputs": [],
   "source": [
    "def load(path):\n",
    "    \"\"\"\n",
    "    Carga clusters, regresa los id y documentos\n",
    "    de cada cluster\n",
    "\n",
    "    Args:\n",
    "        path (str): ruta del archivo\n",
    "    \"\"\"\n",
    "    with open(path, \"rb\") as f:\n",
    "        model = pickle.load(f)\n",
    "    return model[0], model[1]"
   ]
  },
  {
   "cell_type": "code",
   "execution_count": 5,
   "metadata": {},
   "outputs": [],
   "source": [
    "#Por vídeo utilizando espectro\n",
    "named_videoKM, clusters_videoKM = load(\"../pkl/video_classKMeans.pkl\")\n",
    "#Por vídeo utilizando espectro y k-means\n",
    "named_videoS, clusters_videoS = load(\"../pkl/video_classSpectre.pkl\")\n",
    "#Por tpitulo utilizando doc2vec y k-means\n",
    "named_videoD2V, clusters_videoD2V = load(\"../pkl/video_classD2V.pkl\")"
   ]
  },
  {
   "cell_type": "markdown",
   "metadata": {},
   "source": [
    "#### Intento 1"
   ]
  },
  {
   "cell_type": "markdown",
   "metadata": {},
   "source": [
    "De los canales de los que se tomaron los videos sabemos que uno de ellos es de comida y otro trata temas políticos, por lo que como una primera prueba podemos ver si los vídeos de esos canales quedaron en los mismos clusters (sería de alguna manera verificar la pureza de 2 clusters)\n",
    "\n",
    "Obtenemos los id de los videos de los canales mencionados:\n",
    "\n",
    "|           id            |    canal      |\n",
    "|-------------------------|---------------|\n",
    "|UCJQQVLyM6wtPleV4wFBK06g | visualpolitik |\n",
    "|UC_Zc2fmbDpu_arkwvCDcX5g | cocina        |"
   ]
  },
  {
   "cell_type": "code",
   "execution_count": 6,
   "metadata": {},
   "outputs": [],
   "source": [
    "clusters_goal = {'cocina':[], 'política': []}\n",
    "files = [('cocina','UC_Zc2fmbDpu_arkwvCDcX5g'), ('política','UCJQQVLyM6wtPleV4wFBK06g')]\n",
    "for name, file in files:\n",
    "    with open(\"../corpus/data/\"+file+\".json\", 'rb') as f:\n",
    "        chanel = json.loads(f.read().decode('utf-8', 'replace'))\n",
    "        for video in chanel:\n",
    "            clusters_goal[name].append(video[\"id\"])"
   ]
  },
  {
   "cell_type": "code",
   "execution_count": 5,
   "metadata": {},
   "outputs": [
    {
     "name": "stdout",
     "output_type": "stream",
     "text": [
      "['IAHQXsLS3P8', 'dhYWMdHVvGg', 'ULle2vGte8k', 'gun3ouyEoIc', 'H2L_btIXzzc', 'r5IM3yYTQoU', 'ld2pqKmEdDg', 'aNEHF2g0Bos', 'GbQOvcv1cTU', 'DUhvKm4VLeg']\n"
     ]
    }
   ],
   "source": [
    "print(clusters_goal['cocina'][:10])"
   ]
  },
  {
   "cell_type": "code",
   "execution_count": 6,
   "metadata": {},
   "outputs": [],
   "source": [
    "def check_goal_clusters(named_video):\n",
    "    \"\"\"\n",
    "    Muestra en pantalla la distribución de los vídeos contenidos\n",
    "    en los clusters meta\n",
    "    \n",
    "    Args:\n",
    "        named_video (dict): diccionario con el nombre del clusters y el id de los videos\n",
    "    \"\"\"\n",
    "    resp = [[0,0,0,0,0,0,0,0,0,0],[0,0,0,0,0,0,0,0,0,0]]\n",
    "    for i, name in enumerate(clusters_goal):\n",
    "        for id in clusters_goal[name]:\n",
    "            for c, docs in named_video.items():\n",
    "                if id in docs:\n",
    "                    resp[i][c] += 1\n",
    "    print(\"\"\"Distribución de videos en los clusters\n",
    "         Cocina:\n",
    "            {}\n",
    "        Política:\n",
    "            {}\"\"\".format(resp[0], resp[1]))"
   ]
  },
  {
   "cell_type": "markdown",
   "metadata": {},
   "source": [
    "Lo intentamos para los videos utilizando k-means"
   ]
  },
  {
   "cell_type": "code",
   "execution_count": 7,
   "metadata": {},
   "outputs": [
    {
     "name": "stdout",
     "output_type": "stream",
     "text": [
      "Distribución de videos en los clusters\n",
      "         Cocina:\n",
      "            [40, 0, 129, 0, 1, 74, 7, 0, 0, 1]\n",
      "        Política:\n",
      "            [1, 0, 13, 0, 1, 694, 0, 0, 1, 0]\n"
     ]
    }
   ],
   "source": [
    "check_goal_clusters(named_videoKM)\n"
   ]
  },
  {
   "cell_type": "code",
   "execution_count": 8,
   "metadata": {},
   "outputs": [
    {
     "data": {
      "text/plain": [
       "1698"
      ]
     },
     "execution_count": 8,
     "metadata": {},
     "output_type": "execute_result"
    }
   ],
   "source": [
    "len(named_videoKM[5])"
   ]
  },
  {
   "cell_type": "markdown",
   "metadata": {},
   "source": [
    "Con lo anterior podemos tomar que el cluster 2 es el que corresponde a Cocina y que el cluster 5 a política, aunque el cluster 5 cuenta con 1698 videos de los que 694 son de política y 74 de cocina, lo que deja 930 vídeos que podrían ser de política o podrían ser un error al momento de agrupar"
   ]
  },
  {
   "cell_type": "markdown",
   "metadata": {},
   "source": [
    "Lo intentamos ahora con los vídeos utilizando el espectro"
   ]
  },
  {
   "cell_type": "code",
   "execution_count": 9,
   "metadata": {},
   "outputs": [
    {
     "name": "stdout",
     "output_type": "stream",
     "text": [
      "Distribución de videos en los clusters\n",
      "         Cocina:\n",
      "            [29, 14, 24, 20, 4, 24, 31, 22, 84, 0]\n",
      "        Política:\n",
      "            [52, 44, 63, 50, 31, 45, 75, 31, 319, 0]\n"
     ]
    }
   ],
   "source": [
    "check_goal_clusters(named_videoS)"
   ]
  },
  {
   "cell_type": "markdown",
   "metadata": {},
   "source": [
    "Notemos que aquí los videos de ambas categorías están distribuidos a lo largo de todos los clusters, aunque podríamo decir que el cluster 8 es el de política"
   ]
  },
  {
   "cell_type": "markdown",
   "metadata": {},
   "source": [
    "Lo intentamos con los vectores de doc2vec"
   ]
  },
  {
   "cell_type": "code",
   "execution_count": 10,
   "metadata": {},
   "outputs": [
    {
     "name": "stdout",
     "output_type": "stream",
     "text": [
      "Distribución de videos en los clusters\n",
      "         Cocina:\n",
      "            [17, 22, 8, 3, 19, 0, 33, 61, 45, 61]\n",
      "        Política:\n",
      "            [89, 8, 4, 9, 216, 0, 170, 23, 104, 87]\n"
     ]
    }
   ],
   "source": [
    "check_goal_clusters(named_videoD2V)"
   ]
  },
  {
   "cell_type": "markdown",
   "metadata": {},
   "source": [
    "Donde al igual que el anterior están distribuidos a los largo de todos los clusters"
   ]
  },
  {
   "cell_type": "markdown",
   "metadata": {},
   "source": [
    "#### Intento 2"
   ]
  },
  {
   "cell_type": "markdown",
   "metadata": {},
   "source": [
    "Luego podemos extraer las principales palabras de los clusters para ver si tienen relación y de verdad representan un grupo"
   ]
  },
  {
   "cell_type": "code",
   "execution_count": 6,
   "metadata": {},
   "outputs": [
    {
     "name": "stderr",
     "output_type": "stream",
     "text": [
      "100%|██████████| 9/9 [00:00<00:00, 15.71it/s]\n"
     ]
    }
   ],
   "source": [
    "#Cargamos el corpus limpio\n",
    "videos = Data(\"../pkl/clean_videos.pkl\")\n",
    "videos.get_all_subtitles()\n",
    "#Creamos el objeto tfidf\n",
    "tfidf_obj = TFIDF(videos)\n",
    "# Cargamos los valores tfidf previamente calculados\n",
    "tfidf_obj.tfidf = \"../pkl/tfidf.pkl\" #Vectores por texto"
   ]
  },
  {
   "cell_type": "code",
   "execution_count": 47,
   "metadata": {},
   "outputs": [],
   "source": [
    "more = [\"si\", \"bien\", \"ahora\", \"así\", \"aquí\", \"pues\", 'solo', 'vez', 'cómo',\n",
    " 'bueno', 'vamos', 'ser', 'ver', 'tan', 'puede', 'puedo']\n",
    "stopwords_list = stopwords.words('spanish') + more\n",
    "\n",
    "#Cargamos tfidf por documento y obtenemos la palabra clave de cada uno\n",
    "#las agrupamos por clusters\n",
    "def get_keywords_clusters(named_video):\n",
    "    '''\n",
    "    Regresa un diccionario con los subtítulos y su vector tfidf\n",
    "    '''\n",
    "    \n",
    "    keyword = [[],[],[],[],[],[],[],[],[],[]]\n",
    "    #Iteramos sobre los canales\n",
    "    for c, docs in named_video.items():\n",
    "        for id in docs:\n",
    "            if id in tfidf_obj.tfidf.keys():\n",
    "                keyword[c] += [w for w in list(tfidf_obj.tfidf[id].keys()) if w not in stopwords_list]\n",
    "        keyword[c] = sorted(Counter(keyword[c]).items(), key=itemgetter(1), reverse=True)[15:25]\n",
    "    return keyword\n"
   ]
  },
  {
   "cell_type": "code",
   "execution_count": 48,
   "metadata": {},
   "outputs": [
    {
     "name": "stdout",
     "output_type": "stream",
     "text": [
      "Cluster: 0\n",
      " Palabras clave: [('después', 69), ('creo', 67), ('momento', 67), ('quiero', 66), ('mundo', 66), ('menos', 65), ('decir', 64), ('cosas', 62), ('gracias', 62), ('lugar', 61)]\n",
      "----------------\n",
      "Cluster: 1\n",
      " Palabras clave: [('favor', 14), ('mundo', 14), ('hace', 13), ('casa', 13), ('quieres', 13), ('gracias', 13), ('entonces', 12), ('nunca', 12), ('tiempo', 11), ('dónde', 11)]\n",
      "----------------\n",
      "Cluster: 2\n",
      " Palabras clave: [('debe', 163), ('forma', 161), ('vemos', 160), ('día', 159), ('pueden', 159), ('casa', 156), ('va', 155), ('minutos', 155), ('decir', 154), ('mientras', 152)]\n",
      "----------------\n",
      "Cluster: 3\n",
      " Palabras clave: [('hola', 12), ('parece', 12), ('trabajo', 12), ('mal', 12), ('dos', 12), ('lugar', 11), ('mundo', 11), ('creo', 11), ('alguien', 11), ('favor', 11)]\n",
      "----------------\n",
      "Cluster: 4\n",
      " Palabras clave: [('hoy', 19), ('creo', 19), ('sé', 19), ('gracias', 19), ('alguien', 18), ('tener', 17), ('verdad', 17), ('música', 17), ('mundo', 17), ('dos', 17)]\n",
      "----------------\n",
      "Cluster: 5\n",
      " Palabras clave: [('todas', 1247), ('mejor', 1238), ('siempre', 1232), ('día', 1224), ('ejemplo', 1223), ('va', 1209), ('tener', 1209), ('verdad', 1204), ('toda', 1192), ('entonces', 1181)]\n",
      "----------------\n",
      "Cluster: 6\n",
      " Palabras clave: [('día', 48), ('nunca', 46), ('mundo', 46), ('entonces', 45), ('favor', 43), ('trabajo', 43), ('quién', 42), ('cosas', 41), ('decir', 41), ('alguien', 40)]\n",
      "----------------\n",
      "Cluster: 7\n",
      " Palabras clave: [('buen', 1), ('golpe', 1), ('temporada', 1), ('archivo', 1), ('personaje', 1), ('estrella', 1), ('oscuridad', 1), ('tierra', 1), ('llama', 1), ('invasores', 1)]\n",
      "----------------\n",
      "Cluster: 8\n",
      " Palabras clave: [('cosas', 31), ('nuevo', 30), ('amigos', 30), ('puedes', 30), ('parece', 28), ('sé', 28), ('hace', 28), ('favor', 28), ('quieres', 27), ('día', 25)]\n",
      "----------------\n",
      "Cluster: 9\n",
      " Palabras clave: [('día', 24), ('mejor', 24), ('aplausos', 22), ('entonces', 22), ('dónde', 22), ('nuevo', 22), ('tiempo', 21), ('31', 21), ('casa', 20), ('hoy', 20)]\n",
      "----------------\n"
     ]
    }
   ],
   "source": [
    "keyword_kmeans = get_keywords_clusters(named_videoKM)\n",
    "for i, val in enumerate(keyword_kmeans):\n",
    "    print(\"Cluster: {}\\n Palabras clave: {}\\n----------------\".format(i, val))"
   ]
  },
  {
   "cell_type": "code",
   "execution_count": 49,
   "metadata": {},
   "outputs": [
    {
     "name": "stdout",
     "output_type": "stream",
     "text": [
      "Cluster: 0\n",
      " Palabras clave: [('vida', 150), ('día', 149), ('todas', 148), ('luego', 145), ('va', 144), ('verdad', 143), ('puedes', 141), ('forma', 139), ('parece', 139), ('entonces', 138)]\n",
      "----------------\n",
      "Cluster: 1\n",
      " Palabras clave: [('gracias', 78), ('día', 77), ('vídeo', 77), ('hecho', 76), ('verdad', 76), ('siempre', 76), ('tener', 76), ('forma', 73), ('después', 70), ('entonces', 70)]\n",
      "----------------\n",
      "Cluster: 2\n",
      " Palabras clave: [('luego', 114), ('siempre', 113), ('vídeo', 112), ('toda', 112), ('mejor', 111), ('día', 111), ('años', 108), ('mundo', 108), ('forma', 107), ('sólo', 105)]\n",
      "----------------\n",
      "Cluster: 3\n",
      " Palabras clave: [('cada', 74), ('hecho', 74), ('luego', 72), ('entonces', 71), ('cosas', 70), ('siempre', 69), ('años', 69), ('tal', 68), ('caso', 68), ('muchas', 67)]\n",
      "----------------\n",
      "Cluster: 4\n",
      " Palabras clave: [('día', 57), ('cosas', 55), ('forma', 55), ('momento', 54), ('personas', 54), ('tener', 53), ('dos', 52), ('sido', 52), ('verdad', 51), ('incluso', 51)]\n",
      "----------------\n",
      "Cluster: 5\n",
      " Palabras clave: [('siempre', 121), ('mismo', 121), ('decir', 120), ('pueden', 117), ('años', 116), ('toda', 114), ('todas', 114), ('incluso', 113), ('tener', 111), ('luego', 111)]\n",
      "----------------\n",
      "Cluster: 6\n",
      " Palabras clave: [('día', 172), ('hecho', 171), ('parte', 168), ('parece', 164), ('luego', 164), ('verdad', 163), ('va', 162), ('entonces', 161), ('todas', 159), ('años', 156)]\n",
      "----------------\n",
      "Cluster: 7\n",
      " Palabras clave: [('siempre', 170), ('forma', 170), ('cada', 168), ('sólo', 168), ('día', 167), ('ejemplo', 165), ('entonces', 164), ('mundo', 163), ('importante', 163), ('luego', 162)]\n",
      "----------------\n",
      "Cluster: 8\n",
      " Palabras clave: [('cosas', 614), ('menos', 600), ('mismo', 593), ('va', 592), ('parece', 591), ('vida', 583), ('entonces', 582), ('parte', 567), ('cierto', 548), ('luego', 544)]\n",
      "----------------\n",
      "Cluster: 9\n",
      " Palabras clave: [('cada', 63), ('menos', 63), ('ejemplo', 62), ('mundo', 61), ('incluso', 61), ('lugar', 61), ('dos', 61), ('siempre', 60), ('mismo', 60), ('vida', 59)]\n",
      "----------------\n"
     ]
    }
   ],
   "source": [
    "keyword_S = get_keywords_clusters(named_videoS)\n",
    "for i, val in enumerate(keyword_S):\n",
    "    print(\"Cluster: {}\\n Palabras clave: {}\\n----------------\".format(i, val))"
   ]
  },
  {
   "cell_type": "code",
   "execution_count": 50,
   "metadata": {},
   "outputs": [
    {
     "name": "stdout",
     "output_type": "stream",
     "text": [
      "Cluster: 0\n",
      " Palabras clave: [('tiempo', 170), ('sólo', 170), ('momento', 169), ('vídeo', 169), ('mejor', 166), ('toda', 161), ('vida', 160), ('todas', 158), ('tener', 156), ('luego', 155)]\n",
      "----------------\n",
      "Cluster: 1\n",
      " Palabras clave: [('parece', 81), ('hecho', 81), ('momento', 80), ('verdad', 79), ('puedes', 78), ('mismo', 77), ('gracias', 76), ('menos', 75), ('lugar', 74), ('cuenta', 73)]\n",
      "----------------\n",
      "Cluster: 2\n",
      " Palabras clave: [('luego', 116), ('mejor', 116), ('hecho', 114), ('momento', 113), ('verdad', 111), ('cada', 109), ('todas', 105), ('lugar', 105), ('pueden', 104), ('menos', 104)]\n",
      "----------------\n",
      "Cluster: 3\n",
      " Palabras clave: [('día', 271), ('menos', 268), ('parte', 267), ('mismo', 265), ('va', 264), ('quiero', 263), ('cada', 260), ('tener', 254), ('después', 253), ('momento', 251)]\n",
      "----------------\n",
      "Cluster: 4\n",
      " Palabras clave: [('cosas', 264), ('dos', 259), ('tiempo', 256), ('sólo', 254), ('parte', 252), ('todas', 251), ('toda', 251), ('amigos', 248), ('mismo', 246), ('ejemplo', 245)]\n",
      "----------------\n",
      "Cluster: 5\n",
      " Palabras clave: [('hola', 40), ('verdad', 39), ('cosas', 39), ('entonces', 39), ('mismo', 38), ('hecho', 38), ('hoy', 37), ('luego', 36), ('dos', 36), ('tres', 36)]\n",
      "----------------\n",
      "Cluster: 6\n",
      " Palabras clave: [('día', 199), ('mejor', 199), ('cosas', 196), ('toda', 196), ('siempre', 189), ('todas', 187), ('caso', 184), ('verdad', 183), ('ejemplo', 183), ('forma', 181)]\n",
      "----------------\n",
      "Cluster: 7\n",
      " Palabras clave: [('decir', 129), ('pueden', 127), ('momento', 125), ('cosas', 125), ('puedes', 123), ('mundo', 122), ('vida', 121), ('forma', 120), ('años', 119), ('todas', 118)]\n",
      "----------------\n",
      "Cluster: 8\n",
      " Palabras clave: [('mundo', 175), ('vídeo', 174), ('cosas', 173), ('parte', 173), ('luego', 172), ('mismo', 171), ('cada', 170), ('toda', 166), ('todas', 162), ('tener', 159)]\n",
      "----------------\n",
      "Cluster: 9\n",
      " Palabras clave: [('siempre', 174), ('hecho', 173), ('luego', 171), ('cosas', 169), ('día', 168), ('entonces', 168), ('años', 165), ('va', 165), ('toda', 163), ('vídeo', 160)]\n",
      "----------------\n"
     ]
    }
   ],
   "source": [
    "keyword_D2V = get_keywords_clusters(named_videoD2V)\n",
    "for i, val in enumerate(keyword_D2V):\n",
    "    print(\"Cluster: {}\\n Palabras clave: {}\\n----------------\".format(i, val))"
   ]
  },
  {
   "cell_type": "markdown",
   "metadata": {},
   "source": [
    "Hace falta hacer quitar los verbos y para dejar a las palabras representativas"
   ]
  },
  {
   "cell_type": "markdown",
   "metadata": {},
   "source": [
    "#### Intento 3"
   ]
  },
  {
   "cell_type": "markdown",
   "metadata": {},
   "source": [
    "También podemos comparar entre los diferentes clusters de cada intento para ver si coinciden algunos"
   ]
  },
  {
   "cell_type": "code",
   "execution_count": 51,
   "metadata": {},
   "outputs": [],
   "source": [
    "#Hacemos una intersección de clusters\n",
    "inter = [0,0,0,0,0,0,0,0,0,0]\n",
    "for c, docs in named_videoKM.items():\n",
    "    for id in docs:\n",
    "        if id in named_videoD2V[c]:\n",
    "            inter[c] += 1\n",
    "    inter[c] = {'C': c, \n",
    "                'Total video KM': len(docs),\n",
    "                'Total video S': len(named_videoS[c]),\n",
    "                'Compartidos': inter[c]}"
   ]
  },
  {
   "cell_type": "code",
   "execution_count": 49,
   "metadata": {},
   "outputs": [
    {
     "data": {
      "text/plain": [
       "[{'C': 0, 'Total video KM': 219, 'Total video S': 296, 'Compartidos': 20},\n",
       " {'C': 1, 'Total video KM': 84, 'Total video S': 134, 'Compartidos': 10},\n",
       " {'C': 2, 'Total video KM': 376, 'Total video S': 192, 'Compartidos': 19},\n",
       " {'C': 3, 'Total video KM': 61, 'Total video S': 143, 'Compartidos': 10},\n",
       " {'C': 4, 'Total video KM': 98, 'Total video S': 103, 'Compartidos': 9},\n",
       " {'C': 5, 'Total video KM': 1698, 'Total video S': 210, 'Compartidos': 20},\n",
       " {'C': 6, 'Total video KM': 188, 'Total video S': 313, 'Compartidos': 7},\n",
       " {'C': 7, 'Total video KM': 23, 'Total video S': 302, 'Compartidos': 3},\n",
       " {'C': 8, 'Total video KM': 230, 'Total video S': 1471, 'Compartidos': 18},\n",
       " {'C': 9, 'Total video KM': 299, 'Total video S': 112, 'Compartidos': 14}]"
      ]
     },
     "execution_count": 49,
     "metadata": {},
     "output_type": "execute_result"
    }
   ],
   "source": [
    "inter"
   ]
  }
 ],
 "metadata": {
  "interpreter": {
   "hash": "916dbcbb3f70747c44a77c7bcd40155683ae19c65e1c03b4aa3499c5328201f1"
  },
  "kernelspec": {
   "display_name": "Python 3.8.10 64-bit",
   "language": "python",
   "name": "python3"
  },
  "language_info": {
   "codemirror_mode": {
    "name": "ipython",
    "version": 3
   },
   "file_extension": ".py",
   "mimetype": "text/x-python",
   "name": "python",
   "nbconvert_exporter": "python",
   "pygments_lexer": "ipython3",
   "version": "3.8.10"
  },
  "orig_nbformat": 4
 },
 "nbformat": 4,
 "nbformat_minor": 2
}
